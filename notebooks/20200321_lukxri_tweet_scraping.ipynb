{
 "nbformat": 4,
 "nbformat_minor": 2,
 "metadata": {
  "language_info": {
   "name": "python",
   "codemirror_mode": {
    "name": "ipython",
    "version": 3
   },
   "version": "3.6.10-final"
  },
  "orig_nbformat": 2,
  "file_extension": ".py",
  "mimetype": "text/x-python",
  "name": "python",
  "npconvert_exporter": "python",
  "pygments_lexer": "ipython3",
  "version": 3,
  "kernelspec": {
   "name": "python361064bitdssgconda9140bf0812d34f99920d9461d276db63",
   "display_name": "Python 3.6.10 64-bit ('dssg': conda)"
  }
 },
 "cells": [
  {
   "cell_type": "code",
   "execution_count": 62,
   "metadata": {},
   "outputs": [],
   "source": [
    "import numpy as np\n",
    "import twitter, re, datetime, pandas as pd\n",
    "import os\n",
    "from dotenv import load_dotenv"
   ]
  },
  {
   "cell_type": "code",
   "execution_count": 63,
   "metadata": {},
   "outputs": [
    {
     "output_type": "execute_result",
     "data": {
      "text/plain": "True"
     },
     "metadata": {},
     "execution_count": 63
    }
   ],
   "source": [
    "from pathlib import Path\n",
    "env_path = Path(\"../conf\") / \"app.env\"\n",
    "load_dotenv(dotenv_path=env_path)"
   ]
  },
  {
   "cell_type": "code",
   "execution_count": 64,
   "metadata": {},
   "outputs": [],
   "source": [
    "twitter_keys = {\n",
    "    'consumer_key':        os.getenv(\"CONSUMER_KEY\"),\n",
    "    'consumer_secret':     os.getenv(\"CONSUMER_SECRET\"),\n",
    "    'access_token_key':    os.getenv(\"ACCESS_TOKEN_KEY\"),\n",
    "    'access_token_secret': os.getenv(\"ACCESS_TOKEN_SECRET\"),\n",
    "}\n",
    "\n",
    "api = twitter.Api(\n",
    "    consumer_key         =   twitter_keys['consumer_key'],\n",
    "    consumer_secret      =   twitter_keys['consumer_secret'],\n",
    "    access_token_key     =   twitter_keys['access_token_key'],\n",
    "    access_token_secret  =   twitter_keys['access_token_secret'],\n",
    "    tweet_mode = 'extended'\n",
    ")"
   ]
  },
  {
   "cell_type": "code",
   "execution_count": 65,
   "metadata": {},
   "outputs": [
    {
     "output_type": "stream",
     "name": "stdout",
     "text": "Lukas Riesch\n"
    }
   ],
   "source": [
    "print(api.VerifyCredentials().name)"
   ]
  },
  {
   "cell_type": "code",
   "execution_count": 66,
   "metadata": {},
   "outputs": [],
   "source": [
    "#TweetMiner function from Mike Roman\n",
    "\n",
    "class TweetMiner(object):\n",
    "\n",
    "    \n",
    "    def __init__(self, api, result_limit = 20):\n",
    "        \n",
    "        self.api = api        \n",
    "        self.result_limit = result_limit\n",
    "        \n",
    "\n",
    "    def mine_user_tweets(self, user=\"HillaryClinton\", mine_retweets=False, max_pages=20):\n",
    "\n",
    "        data           =  []\n",
    "        last_tweet_id  =  False\n",
    "        page           =  1\n",
    "        \n",
    "        while page <= max_pages:\n",
    "            \n",
    "            if last_tweet_id:\n",
    "                statuses   =   self.api.GetUserTimeline(screen_name=user, count=self.result_limit, max_id=last_tweet_id - 1, include_rts=mine_retweets)\n",
    "                statuses = [ _.AsDict() for _ in statuses]\n",
    "            else:\n",
    "                statuses   =   self.api.GetUserTimeline(screen_name=user, count=self.result_limit, include_rts=mine_retweets)\n",
    "                statuses = [_.AsDict() for _ in statuses]\n",
    "                \n",
    "            for item in statuses:\n",
    "                # Using try except here.\n",
    "                # When retweets = 0 we get an error (GetUserTimeline fails to create a key, 'retweet_count')\n",
    "                try:\n",
    "                    mined = {\n",
    "                        'tweet_id':        item['id'],\n",
    "                        'handle':          item['user']['screen_name'],\n",
    "                        'retweet_count':   item['retweet_count'],\n",
    "                        'text':            item['full_text'],\n",
    "                        'mined_at':        datetime.datetime.now(),\n",
    "                        'created_at':      item['created_at'],\n",
    "                    }\n",
    "                \n",
    "                except:\n",
    "                        mined = {\n",
    "                        'tweet_id':        item['id'],\n",
    "                        'handle':          item['user']['screen_name'],\n",
    "                        'retweet_count':   0,\n",
    "                        'text':            item['full_text'],\n",
    "                        'mined_at':        datetime.datetime.now(),\n",
    "                        'created_at':      item['created_at'],\n",
    "                    }\n",
    "                \n",
    "                last_tweet_id = item['id']\n",
    "                data.append(mined)\n",
    "                \n",
    "            page += 1\n",
    "            \n",
    "        return data"
   ]
  },
  {
   "cell_type": "code",
   "execution_count": 67,
   "metadata": {},
   "outputs": [],
   "source": [
    "miner = TweetMiner(api=api, result_limit=200)\n",
    "data_trump = miner.mine_user_tweets(user=\"realDonaldTrump\")\n",
    "data_clinton = miner.mine_user_tweets(user=\"HillaryClinton\")"
   ]
  },
  {
   "cell_type": "code",
   "execution_count": 68,
   "metadata": {},
   "outputs": [],
   "source": [
    "df_trump = pd.DataFrame(data_trump)\n",
    "df_clinton = pd.DataFrame(data_clinton)"
   ]
  },
  {
   "cell_type": "code",
   "execution_count": 69,
   "metadata": {},
   "outputs": [
    {
     "output_type": "stream",
     "name": "stdout",
     "text": "<class 'pandas.core.frame.DataFrame'>\n<class 'pandas.core.frame.DataFrame'>\n"
    }
   ],
   "source": [
    "print(type(df_clinton))\n",
    "print(type(df_trump))"
   ]
  },
  {
   "cell_type": "code",
   "execution_count": 70,
   "metadata": {},
   "outputs": [],
   "source": [
    "df = pd.concat([df_trump, df_clinton], axis=0)"
   ]
  },
  {
   "cell_type": "code",
   "execution_count": 76,
   "metadata": {},
   "outputs": [
    {
     "output_type": "execute_result",
     "data": {
      "text/plain": "(3934, 6)"
     },
     "metadata": {},
     "execution_count": 76
    }
   ],
   "source": [
    "df.shape"
   ]
  },
  {
   "cell_type": "code",
   "execution_count": 78,
   "metadata": {},
   "outputs": [],
   "source": [
    "from sklearn.feature_extraction.text import TfidfVectorizer\n",
    "from collections import Counter"
   ]
  },
  {
   "cell_type": "code",
   "execution_count": 80,
   "metadata": {},
   "outputs": [
    {
     "output_type": "execute_result",
     "data": {
      "text/plain": "[('impeachment hoax', 56),\n ('fake news', 50),\n ('mini mike', 48),\n ('united states', 39),\n ('kag2020 https', 36),\n ('republican party', 30),\n ('radical left', 28),\n ('total endorsement', 27),\n ('great state', 27),\n ('white house', 24),\n ('america great', 24),\n ('witch hunt', 24),\n ('great job', 23),\n ('mike bloomberg', 23),\n ('left democrats', 23),\n ('complete total', 22),\n ('complete total endorsement', 22),\n ('president trump', 21),\n ('radical left democrats', 21),\n ('mini mike bloomberg', 20)]"
     },
     "metadata": {},
     "execution_count": 80
    }
   ],
   "source": [
    "vect = TfidfVectorizer(ngram_range=(2,5), stop_words=\"english\")\n",
    "summaries = \"\".join(df_trump[\"text\"])\n",
    "ngrams_summaries = vect.build_analyzer()(summaries)\n",
    "\n",
    "Counter(ngrams_summaries).most_common(20)"
   ]
  },
  {
   "cell_type": "code",
   "execution_count": 81,
   "metadata": {},
   "outputs": [
    {
     "output_type": "execute_result",
     "data": {
      "text/plain": "[('donald trump', 98),\n ('https ttgeqxnqym', 75),\n ('vote https', 62),\n ('make sure', 61),\n ('hillary https', 60),\n ('health care', 50),\n ('https 3tkj4h68kz', 44),\n ('ttgeqxnqym https', 42),\n ('https ttgeqxnqym https', 42),\n ('human rights', 38),\n ('debatenight https', 38),\n ('3tkj4h68kz https', 32),\n ('https 3tkj4h68kz https', 32),\n ('climate change', 30),\n ('hillary clinton', 30),\n ('potus https', 29),\n ('today https', 28),\n ('trump https', 26),\n ('young people', 25),\n ('202 224', 25)]"
     },
     "metadata": {},
     "execution_count": 81
    }
   ],
   "source": [
    "vect = TfidfVectorizer(ngram_range=(2,5), stop_words=\"english\")\n",
    "summaries = \"\".join(df_clinton[\"text\"])\n",
    "ngrams_summaries = vect.build_analyzer()(summaries)\n",
    "Counter(ngrams_summaries).most_common(20)"
   ]
  },
  {
   "cell_type": "code",
   "execution_count": 87,
   "metadata": {},
   "outputs": [
    {
     "output_type": "error",
     "ename": "NotImplementedError",
     "evalue": "As of v0.7.0, :func:`fix_bad_unicode()` is no longer implemented in textacy. Instead, install and import ``ftfy`` directly, and call ``ftfy.fix_text(text)`` ,which is more extensive and customizable than textacy's wrapper of it.For details, check out https://ftfy.readthedocs.io.",
     "traceback": [
      "\u001b[0;31m---------------------------------------------------------------------------\u001b[0m",
      "\u001b[0;31mNotImplementedError\u001b[0m                       Traceback (most recent call last)",
      "\u001b[0;32m<ipython-input-87-87e114cb0071>\u001b[0m in \u001b[0;36m<module>\u001b[0;34m\u001b[0m\n\u001b[1;32m      2\u001b[0m \u001b[0;34m\u001b[0m\u001b[0m\n\u001b[1;32m      3\u001b[0m \u001b[0mtweet_text\u001b[0m \u001b[0;34m=\u001b[0m \u001b[0mdf\u001b[0m\u001b[0;34m[\u001b[0m\u001b[0;34m\"text\"\u001b[0m\u001b[0;34m]\u001b[0m\u001b[0;34m.\u001b[0m\u001b[0mvalues\u001b[0m\u001b[0;34m\u001b[0m\u001b[0;34m\u001b[0m\u001b[0m\n\u001b[0;32m----> 4\u001b[0;31m \u001b[0mclean_text\u001b[0m \u001b[0;34m=\u001b[0m \u001b[0;34m[\u001b[0m\u001b[0mpreprocess_text\u001b[0m\u001b[0;34m(\u001b[0m\u001b[0mx\u001b[0m\u001b[0;34m,\u001b[0m \u001b[0mfix_unicode\u001b[0m\u001b[0;34m=\u001b[0m\u001b[0;32mTrue\u001b[0m\u001b[0;34m,\u001b[0m \u001b[0mlowercase\u001b[0m\u001b[0;34m=\u001b[0m\u001b[0;32mTrue\u001b[0m\u001b[0;34m,\u001b[0m \u001b[0mno_urls\u001b[0m\u001b[0;34m=\u001b[0m\u001b[0;32mTrue\u001b[0m\u001b[0;34m,\u001b[0m \u001b[0mno_emails\u001b[0m\u001b[0;34m=\u001b[0m\u001b[0;32mTrue\u001b[0m\u001b[0;34m,\u001b[0m \u001b[0mno_phone_numbers\u001b[0m\u001b[0;34m=\u001b[0m\u001b[0;32mTrue\u001b[0m\u001b[0;34m,\u001b[0m \u001b[0mno_currency_symbols\u001b[0m\u001b[0;34m=\u001b[0m\u001b[0;32mTrue\u001b[0m\u001b[0;34m,\u001b[0m \u001b[0mno_punct\u001b[0m\u001b[0;34m=\u001b[0m\u001b[0;32mTrue\u001b[0m\u001b[0;34m,\u001b[0m \u001b[0mno_accents\u001b[0m\u001b[0;34m=\u001b[0m\u001b[0;32mTrue\u001b[0m\u001b[0;34m)\u001b[0m \u001b[0;32mfor\u001b[0m \u001b[0mx\u001b[0m \u001b[0;32min\u001b[0m \u001b[0mtweet_text\u001b[0m\u001b[0;34m]\u001b[0m\u001b[0;34m\u001b[0m\u001b[0;34m\u001b[0m\u001b[0m\n\u001b[0m",
      "\u001b[0;32m<ipython-input-87-87e114cb0071>\u001b[0m in \u001b[0;36m<listcomp>\u001b[0;34m(.0)\u001b[0m\n\u001b[1;32m      2\u001b[0m \u001b[0;34m\u001b[0m\u001b[0m\n\u001b[1;32m      3\u001b[0m \u001b[0mtweet_text\u001b[0m \u001b[0;34m=\u001b[0m \u001b[0mdf\u001b[0m\u001b[0;34m[\u001b[0m\u001b[0;34m\"text\"\u001b[0m\u001b[0;34m]\u001b[0m\u001b[0;34m.\u001b[0m\u001b[0mvalues\u001b[0m\u001b[0;34m\u001b[0m\u001b[0;34m\u001b[0m\u001b[0m\n\u001b[0;32m----> 4\u001b[0;31m \u001b[0mclean_text\u001b[0m \u001b[0;34m=\u001b[0m \u001b[0;34m[\u001b[0m\u001b[0mpreprocess_text\u001b[0m\u001b[0;34m(\u001b[0m\u001b[0mx\u001b[0m\u001b[0;34m,\u001b[0m \u001b[0mfix_unicode\u001b[0m\u001b[0;34m=\u001b[0m\u001b[0;32mTrue\u001b[0m\u001b[0;34m,\u001b[0m \u001b[0mlowercase\u001b[0m\u001b[0;34m=\u001b[0m\u001b[0;32mTrue\u001b[0m\u001b[0;34m,\u001b[0m \u001b[0mno_urls\u001b[0m\u001b[0;34m=\u001b[0m\u001b[0;32mTrue\u001b[0m\u001b[0;34m,\u001b[0m \u001b[0mno_emails\u001b[0m\u001b[0;34m=\u001b[0m\u001b[0;32mTrue\u001b[0m\u001b[0;34m,\u001b[0m \u001b[0mno_phone_numbers\u001b[0m\u001b[0;34m=\u001b[0m\u001b[0;32mTrue\u001b[0m\u001b[0;34m,\u001b[0m \u001b[0mno_currency_symbols\u001b[0m\u001b[0;34m=\u001b[0m\u001b[0;32mTrue\u001b[0m\u001b[0;34m,\u001b[0m \u001b[0mno_punct\u001b[0m\u001b[0;34m=\u001b[0m\u001b[0;32mTrue\u001b[0m\u001b[0;34m,\u001b[0m \u001b[0mno_accents\u001b[0m\u001b[0;34m=\u001b[0m\u001b[0;32mTrue\u001b[0m\u001b[0;34m)\u001b[0m \u001b[0;32mfor\u001b[0m \u001b[0mx\u001b[0m \u001b[0;32min\u001b[0m \u001b[0mtweet_text\u001b[0m\u001b[0;34m]\u001b[0m\u001b[0;34m\u001b[0m\u001b[0;34m\u001b[0m\u001b[0m\n\u001b[0m",
      "\u001b[0;32m~/anaconda3/envs/dssg/lib/python3.6/site-packages/textacy/preprocess.py\u001b[0m in \u001b[0;36mpreprocess_text\u001b[0;34m(text, fix_unicode, normalize_unicode, lowercase, no_urls, no_emails, no_phone_numbers, no_numbers, no_currency_symbols, no_punct, no_contractions, no_accents)\u001b[0m\n",
      "\u001b[0;32m~/anaconda3/envs/dssg/lib/python3.6/site-packages/textacy/preprocess.py\u001b[0m in \u001b[0;36mfix_bad_unicode\u001b[0;34m(text, normalization)\u001b[0m\n\u001b[1;32m     27\u001b[0m         \u001b[0mnormalization\u001b[0m \u001b[0;34m(\u001b[0m\u001b[0;34m{\u001b[0m\u001b[0;34m'NFC'\u001b[0m\u001b[0;34m,\u001b[0m \u001b[0;34m'NFKC'\u001b[0m\u001b[0;34m,\u001b[0m \u001b[0;34m'NFD'\u001b[0m\u001b[0;34m,\u001b[0m \u001b[0;34m'NFKD'\u001b[0m\u001b[0;34m}\u001b[0m\u001b[0;34m)\u001b[0m\u001b[0;34m:\u001b[0m \u001b[0;32mif\u001b[0m \u001b[0;34m'NFC'\u001b[0m\u001b[0;34m,\u001b[0m\u001b[0;34m\u001b[0m\u001b[0;34m\u001b[0m\u001b[0m\n\u001b[1;32m     28\u001b[0m             \u001b[0mcombines\u001b[0m \u001b[0mcharacters\u001b[0m \u001b[0;32mand\u001b[0m \u001b[0mdiacritics\u001b[0m \u001b[0mwritten\u001b[0m \u001b[0musing\u001b[0m \u001b[0mseparate\u001b[0m \u001b[0mcode\u001b[0m \u001b[0mpoints\u001b[0m\u001b[0;34m,\u001b[0m\u001b[0;34m\u001b[0m\u001b[0;34m\u001b[0m\u001b[0m\n\u001b[0;32m---> 29\u001b[0;31m             \u001b[0me\u001b[0m\u001b[0;34m.\u001b[0m\u001b[0mg\u001b[0m\u001b[0;34m.\u001b[0m \u001b[0mconverting\u001b[0m \u001b[0;34m\"e\"\u001b[0m \u001b[0mplus\u001b[0m \u001b[0man\u001b[0m \u001b[0macute\u001b[0m \u001b[0maccent\u001b[0m \u001b[0mmodifier\u001b[0m \u001b[0minto\u001b[0m \u001b[0;34m\"é\"\u001b[0m\u001b[0;34m;\u001b[0m \u001b[0municode\u001b[0m\u001b[0;34m\u001b[0m\u001b[0;34m\u001b[0m\u001b[0m\n\u001b[0m\u001b[1;32m     30\u001b[0m             \u001b[0mcan\u001b[0m \u001b[0mbe\u001b[0m \u001b[0mconverted\u001b[0m \u001b[0mto\u001b[0m \u001b[0mNFC\u001b[0m \u001b[0mform\u001b[0m \u001b[0mwithout\u001b[0m \u001b[0many\u001b[0m \u001b[0mchange\u001b[0m \u001b[0;32min\u001b[0m \u001b[0mits\u001b[0m \u001b[0mmeaning\u001b[0m\u001b[0;31m!\u001b[0m\u001b[0;34m\u001b[0m\u001b[0;34m\u001b[0m\u001b[0m\n\u001b[1;32m     31\u001b[0m             \u001b[0;32mif\u001b[0m \u001b[0;34m'NFKC'\u001b[0m\u001b[0;34m,\u001b[0m \u001b[0madditional\u001b[0m \u001b[0mnormalizations\u001b[0m \u001b[0mare\u001b[0m \u001b[0mapplied\u001b[0m \u001b[0mthat\u001b[0m \u001b[0mcan\u001b[0m \u001b[0mchange\u001b[0m\u001b[0;34m\u001b[0m\u001b[0;34m\u001b[0m\u001b[0m\n",
      "\u001b[0;31mNotImplementedError\u001b[0m: As of v0.7.0, :func:`fix_bad_unicode()` is no longer implemented in textacy. Instead, install and import ``ftfy`` directly, and call ``ftfy.fix_text(text)`` ,which is more extensive and customizable than textacy's wrapper of it.For details, check out https://ftfy.readthedocs.io."
     ]
    }
   ],
   "source": [
    "from textacy.preprocess import preprocess_text\n",
    "\n",
    "tweet_text = df[\"text\"].values\n",
    "clean_text = [preprocess_text(x, fix_unicode=True, lowercase=True, no_urls=True, no_emails=True, no_phone_numbers=True, no_currency_symbols=True, no_punct=True, no_accents=True) for x in tweet_text]"
   ]
  },
  {
   "cell_type": "code",
   "execution_count": 103,
   "metadata": {},
   "outputs": [],
   "source": [
    "import ftfy\n",
    "tweet_text = df[\"text\"].values\n",
    "clean_text = [ftfy.fix_text(x) for x in tweet_text]\n",
    "clean_text = [re.sub(r'^https?:\\/\\/.*[\\r\\n]*', '', text, flags=re.MULTILINE) for text in clean_text]"
   ]
  },
  {
   "cell_type": "code",
   "execution_count": 104,
   "metadata": {},
   "outputs": [
    {
     "output_type": "stream",
     "name": "stdout",
     "text": "['HYDROXYCHLOROQUINE &amp; AZITHROMYCIN, taken together, have a real chance to be one of the biggest game changers in the history of medicine. The FDA has moved mountains - Thank You! Hopefully they will BOTH (H works better with A, International Journal of Antimicrobial Agents).....'\n 'Great story. Thank you to Mr. Young of Jonesboro, Arkansas! https://t.co/i9xH8VXfS2'\n 'https://t.co/MLLfFTqv19' 'https://t.co/2wAUfZwBsa'\n 'Today I spoke with our Nation’s Small Businesses, which employ nearly half of America’s workforce. We are taking the MOST aggressive action in history to deliver fast relief to your businesses and workers. We will always protect our Small Businesses! @SBAgov https://t.co/lf3y5iJ4hd'\n 'https://t.co/ytgBP3hJv1' 'A Great Guy! https://t.co/L3sjMW9Inw']\n"
    }
   ],
   "source": [
    "print(tweet_text[1:8])"
   ]
  },
  {
   "cell_type": "code",
   "execution_count": 105,
   "metadata": {},
   "outputs": [
    {
     "output_type": "stream",
     "name": "stdout",
     "text": "['HYDROXYCHLOROQUINE & AZITHROMYCIN, taken together, have a real chance to be one of the biggest game changers in the history of medicine. The FDA has moved mountains - Thank You! Hopefully they will BOTH (H works better with A, International Journal of Antimicrobial Agents).....', 'Great story. Thank you to Mr. Young of Jonesboro, Arkansas! https://t.co/i9xH8VXfS2', '', '', \"Today I spoke with our Nation's Small Businesses, which employ nearly half of America's workforce. We are taking the MOST aggressive action in history to deliver fast relief to your businesses and workers. We will always protect our Small Businesses! @SBAgov https://t.co/lf3y5iJ4hd\", '', 'A Great Guy! https://t.co/L3sjMW9Inw']\n"
    }
   ],
   "source": [
    "print(clean_text[1:8])"
   ]
  },
  {
   "cell_type": "code",
   "execution_count": 109,
   "metadata": {},
   "outputs": [
    {
     "output_type": "stream",
     "name": "stdout",
     "text": "0.6484494153533299\n"
    }
   ],
   "source": [
    "y = df[\"handle\"].map(lambda x: 1 if x==\"realDonaldTrump\" else 0).values\n",
    "print(max(pd.Series(y).value_counts(normalize=True)))"
   ]
  },
  {
   "cell_type": "code",
   "execution_count": 110,
   "metadata": {},
   "outputs": [
    {
     "output_type": "stream",
     "name": "stdout",
     "text": "(3934, 2000)\n"
    }
   ],
   "source": [
    "from sklearn.linear_model import LogisticRegression\n",
    "from sklearn.neighbors import KNeighborsClassifier\n",
    "from sklearn.tree import DecisionTreeClassifier\n",
    "from sklearn.svm import SVC\n",
    "\n",
    "tfv = TfidfVectorizer(ngram_range=(2,4), max_features=2000)\n",
    "X = tfv.fit_transform(clean_text).todense()\n",
    "print(X.shape)"
   ]
  },
  {
   "cell_type": "code",
   "execution_count": 112,
   "metadata": {},
   "outputs": [
    {
     "output_type": "stream",
     "name": "stdout",
     "text": "Fitting 10 folds for each of 200 candidates, totalling 2000 fits\n[Parallel(n_jobs=1)]: Using backend SequentialBackend with 1 concurrent workers.\n[Parallel(n_jobs=1)]: Done 2000 out of 2000 | elapsed: 10.9min finished\n"
    },
    {
     "output_type": "execute_result",
     "data": {
      "text/plain": "GridSearchCV(cv=10, error_score=nan,\n             estimator=LogisticRegression(C=1.0, class_weight=None, dual=False,\n                                          fit_intercept=True,\n                                          intercept_scaling=1, l1_ratio=None,\n                                          max_iter=100, multi_class='auto',\n                                          n_jobs=None, penalty='l2',\n                                          random_state=None, solver='lbfgs',\n                                          tol=0.0001, verbose=0,\n                                          warm_start=False),\n             iid='deprecated', n_jobs=None,\n             param_grid={'C': array([1.00000000e-05, 1....\n       1.09749877e-01, 1.23284674e-01, 1.38488637e-01, 1.55567614e-01,\n       1.74752840e-01, 1.96304065e-01, 2.20513074e-01, 2.47707636e-01,\n       2.78255940e-01, 3.12571585e-01, 3.51119173e-01, 3.94420606e-01,\n       4.43062146e-01, 4.97702356e-01, 5.59081018e-01, 6.28029144e-01,\n       7.05480231e-01, 7.92482898e-01, 8.90215085e-01, 1.00000000e+00]),\n                         'penalty': ['l1', 'l2']},\n             pre_dispatch='2*n_jobs', refit=True, return_train_score=False,\n             scoring=None, verbose=1)"
     },
     "metadata": {},
     "execution_count": 112
    }
   ],
   "source": [
    "from sklearn.model_selection import GridSearchCV\n",
    "\n",
    "lr = LogisticRegression()\n",
    "params = {\"penalty\":[\"l1\", \"l2\"], \"C\":np.logspace(-5,0,100)}\n",
    "gs = GridSearchCV(lr, param_grid=params, cv=10, verbose=1)\n",
    "gs.fit(X,y)"
   ]
  },
  {
   "cell_type": "code",
   "execution_count": 113,
   "metadata": {},
   "outputs": [
    {
     "output_type": "stream",
     "name": "stdout",
     "text": "{'C': 0.8902150854450392, 'penalty': 'l2'}\n0.83477351106289\n"
    }
   ],
   "source": [
    "print(gs.best_params_)\n",
    "print(gs.best_score_)"
   ]
  },
  {
   "cell_type": "code",
   "execution_count": 114,
   "metadata": {},
   "outputs": [],
   "source": [
    "from sklearn.model_selection import cross_val_score\n",
    "acc = cross_val_score(LogisticRegression(), X, y, cv=10)"
   ]
  },
  {
   "cell_type": "code",
   "execution_count": 115,
   "metadata": {},
   "outputs": [
    {
     "output_type": "stream",
     "name": "stdout",
     "text": "0.83477351106289\n0.64844941535333\n"
    }
   ],
   "source": [
    "print(acc.mean())\n",
    "print(1-y.mean())"
   ]
  },
  {
   "cell_type": "code",
   "execution_count": 116,
   "metadata": {},
   "outputs": [
    {
     "output_type": "execute_result",
     "data": {
      "text/plain": "   Proba_Hilary  Proba_Trump\n0      0.908105     0.091895\n1      0.434411     0.565589",
      "text/html": "<div>\n<style scoped>\n    .dataframe tbody tr th:only-of-type {\n        vertical-align: middle;\n    }\n\n    .dataframe tbody tr th {\n        vertical-align: top;\n    }\n\n    .dataframe thead th {\n        text-align: right;\n    }\n</style>\n<table border=\"1\" class=\"dataframe\">\n  <thead>\n    <tr style=\"text-align: right;\">\n      <th></th>\n      <th>Proba_Hilary</th>\n      <th>Proba_Trump</th>\n    </tr>\n  </thead>\n  <tbody>\n    <tr>\n      <th>0</th>\n      <td>0.908105</td>\n      <td>0.091895</td>\n    </tr>\n    <tr>\n      <th>1</th>\n      <td>0.434411</td>\n      <td>0.565589</td>\n    </tr>\n  </tbody>\n</table>\n</div>"
     },
     "metadata": {},
     "execution_count": 116
    }
   ],
   "source": [
    "estimator = LogisticRegression(penalty=\"l2\", C=gs.best_params_[\"C\"])\n",
    "estimator.fit(X,y)\n",
    "\n",
    "source_test = [\n",
    "    \"The presidency doesn’t change who you are—it reveals who you are. And we’ve seen all we need to of Donald Trump.\",\n",
    "    \"Crooked Hillary is spending tremendous amounts of Wall Street money on false ads against me. She is a very dishonest person!\"\n",
    "]\n",
    "\n",
    "Xtest = tfv.transform(source_test)\n",
    "pd.DataFrame(estimator.predict_proba(Xtest), columns=[\"Proba_Hilary\", \"Proba_Trump\"])"
   ]
  },
  {
   "cell_type": "code",
   "execution_count": 117,
   "metadata": {},
   "outputs": [
    {
     "output_type": "execute_result",
     "data": {
      "text/plain": "array([[0.41386652, 0.58613348],\n       [0.3552458 , 0.6447542 ],\n       [0.26215435, 0.73784565],\n       ...,\n       [0.94597099, 0.05402901],\n       [0.90364661, 0.09635339],\n       [0.93593955, 0.06406045]])"
     },
     "metadata": {},
     "execution_count": 117
    }
   ],
   "source": [
    "estimator.predict_proba(X)"
   ]
  },
  {
   "cell_type": "code",
   "execution_count": 123,
   "metadata": {},
   "outputs": [],
   "source": [
    "probas_x = pd.DataFrame(estimator.predict_proba(X), columns=[\"Proba_Hillary\", \"Proba_Donald\"])"
   ]
  },
  {
   "cell_type": "code",
   "execution_count": 124,
   "metadata": {},
   "outputs": [],
   "source": [
    "joined_x = pd.merge(df, probas_x, left_index=True, right_index=True)"
   ]
  },
  {
   "cell_type": "code",
   "execution_count": 125,
   "metadata": {},
   "outputs": [
    {
     "output_type": "execute_result",
     "data": {
      "text/plain": "                 tweet_id           handle  retweet_count  \\\n0     1241367245143642113  realDonaldTrump           7453   \n0     1241014119572082694   HillaryClinton          20476   \n1     1241367239900778501  realDonaldTrump          19875   \n1     1241006585541013504   HillaryClinton           2700   \n2     1241354162144784384  realDonaldTrump           5527   \n...                   ...              ...            ...   \n2546   780582940732424192   HillaryClinton           2186   \n2547   780582541019475968   HillaryClinton          18327   \n2548   780582086231126016   HillaryClinton           7634   \n2549   780579514938261504   HillaryClinton           5243   \n2550   780578052216676352   HillaryClinton           2526   \n\n                                                   text  \\\n0     ....be put in use IMMEDIATELY. PEOPLE ARE DYIN...   \n0          Where are the tests? https://t.co/VB9jeVwIfl   \n1     HYDROXYCHLOROQUINE &amp; AZITHROMYCIN, taken t...   \n1     Well said. It can't be easy to be a teenager r...   \n2     Great story. Thank you to Mr. Young of Jonesbo...   \n...                                                 ...   \n2546  \"It's about time this country had somebody run...   \n2547  Paying zero in taxes doesn’t make you \"smart.\"...   \n2548  No wonder Donald Trump is hiding his tax retur...   \n2549  Donald Trump may live in his own reality—but w...   \n2550  We can step up and confront climate change, sa...   \n\n                       mined_at                      created_at  \\\n0    2020-03-21 15:55:55.985052  Sat Mar 21 14:13:09 +0000 2020   \n0    2020-03-21 15:56:04.063085  Fri Mar 20 14:49:57 +0000 2020   \n1    2020-03-21 15:55:55.985059  Sat Mar 21 14:13:08 +0000 2020   \n1    2020-03-21 15:56:04.063093  Fri Mar 20 14:20:01 +0000 2020   \n2    2020-03-21 15:55:55.985061  Sat Mar 21 13:21:10 +0000 2020   \n...                         ...                             ...   \n2546 2020-03-21 15:56:11.387867  Tue Sep 27 01:40:50 +0000 2016   \n2547 2020-03-21 15:56:11.387870  Tue Sep 27 01:39:14 +0000 2016   \n2548 2020-03-21 15:56:11.387873  Tue Sep 27 01:37:26 +0000 2016   \n2549 2020-03-21 15:56:11.387876  Tue Sep 27 01:27:13 +0000 2016   \n2550 2020-03-21 15:56:11.387880  Tue Sep 27 01:21:24 +0000 2016   \n\n      Proba_Hillary  Proba_Donald  \n0          0.413867      0.586133  \n0          0.413867      0.586133  \n1          0.355246      0.644754  \n1          0.355246      0.644754  \n2          0.262154      0.737846  \n...             ...           ...  \n2546       0.760796      0.239204  \n2547       0.717995      0.282005  \n2548       0.816262      0.183738  \n2549       0.525638      0.474362  \n2550       0.799357      0.200643  \n\n[3934 rows x 8 columns]",
      "text/html": "<div>\n<style scoped>\n    .dataframe tbody tr th:only-of-type {\n        vertical-align: middle;\n    }\n\n    .dataframe tbody tr th {\n        vertical-align: top;\n    }\n\n    .dataframe thead th {\n        text-align: right;\n    }\n</style>\n<table border=\"1\" class=\"dataframe\">\n  <thead>\n    <tr style=\"text-align: right;\">\n      <th></th>\n      <th>tweet_id</th>\n      <th>handle</th>\n      <th>retweet_count</th>\n      <th>text</th>\n      <th>mined_at</th>\n      <th>created_at</th>\n      <th>Proba_Hillary</th>\n      <th>Proba_Donald</th>\n    </tr>\n  </thead>\n  <tbody>\n    <tr>\n      <th>0</th>\n      <td>1241367245143642113</td>\n      <td>realDonaldTrump</td>\n      <td>7453</td>\n      <td>....be put in use IMMEDIATELY. PEOPLE ARE DYIN...</td>\n      <td>2020-03-21 15:55:55.985052</td>\n      <td>Sat Mar 21 14:13:09 +0000 2020</td>\n      <td>0.413867</td>\n      <td>0.586133</td>\n    </tr>\n    <tr>\n      <th>0</th>\n      <td>1241014119572082694</td>\n      <td>HillaryClinton</td>\n      <td>20476</td>\n      <td>Where are the tests? https://t.co/VB9jeVwIfl</td>\n      <td>2020-03-21 15:56:04.063085</td>\n      <td>Fri Mar 20 14:49:57 +0000 2020</td>\n      <td>0.413867</td>\n      <td>0.586133</td>\n    </tr>\n    <tr>\n      <th>1</th>\n      <td>1241367239900778501</td>\n      <td>realDonaldTrump</td>\n      <td>19875</td>\n      <td>HYDROXYCHLOROQUINE &amp;amp; AZITHROMYCIN, taken t...</td>\n      <td>2020-03-21 15:55:55.985059</td>\n      <td>Sat Mar 21 14:13:08 +0000 2020</td>\n      <td>0.355246</td>\n      <td>0.644754</td>\n    </tr>\n    <tr>\n      <th>1</th>\n      <td>1241006585541013504</td>\n      <td>HillaryClinton</td>\n      <td>2700</td>\n      <td>Well said. It can't be easy to be a teenager r...</td>\n      <td>2020-03-21 15:56:04.063093</td>\n      <td>Fri Mar 20 14:20:01 +0000 2020</td>\n      <td>0.355246</td>\n      <td>0.644754</td>\n    </tr>\n    <tr>\n      <th>2</th>\n      <td>1241354162144784384</td>\n      <td>realDonaldTrump</td>\n      <td>5527</td>\n      <td>Great story. Thank you to Mr. Young of Jonesbo...</td>\n      <td>2020-03-21 15:55:55.985061</td>\n      <td>Sat Mar 21 13:21:10 +0000 2020</td>\n      <td>0.262154</td>\n      <td>0.737846</td>\n    </tr>\n    <tr>\n      <th>...</th>\n      <td>...</td>\n      <td>...</td>\n      <td>...</td>\n      <td>...</td>\n      <td>...</td>\n      <td>...</td>\n      <td>...</td>\n      <td>...</td>\n    </tr>\n    <tr>\n      <th>2546</th>\n      <td>780582940732424192</td>\n      <td>HillaryClinton</td>\n      <td>2186</td>\n      <td>\"It's about time this country had somebody run...</td>\n      <td>2020-03-21 15:56:11.387867</td>\n      <td>Tue Sep 27 01:40:50 +0000 2016</td>\n      <td>0.760796</td>\n      <td>0.239204</td>\n    </tr>\n    <tr>\n      <th>2547</th>\n      <td>780582541019475968</td>\n      <td>HillaryClinton</td>\n      <td>18327</td>\n      <td>Paying zero in taxes doesn’t make you \"smart.\"...</td>\n      <td>2020-03-21 15:56:11.387870</td>\n      <td>Tue Sep 27 01:39:14 +0000 2016</td>\n      <td>0.717995</td>\n      <td>0.282005</td>\n    </tr>\n    <tr>\n      <th>2548</th>\n      <td>780582086231126016</td>\n      <td>HillaryClinton</td>\n      <td>7634</td>\n      <td>No wonder Donald Trump is hiding his tax retur...</td>\n      <td>2020-03-21 15:56:11.387873</td>\n      <td>Tue Sep 27 01:37:26 +0000 2016</td>\n      <td>0.816262</td>\n      <td>0.183738</td>\n    </tr>\n    <tr>\n      <th>2549</th>\n      <td>780579514938261504</td>\n      <td>HillaryClinton</td>\n      <td>5243</td>\n      <td>Donald Trump may live in his own reality—but w...</td>\n      <td>2020-03-21 15:56:11.387876</td>\n      <td>Tue Sep 27 01:27:13 +0000 2016</td>\n      <td>0.525638</td>\n      <td>0.474362</td>\n    </tr>\n    <tr>\n      <th>2550</th>\n      <td>780578052216676352</td>\n      <td>HillaryClinton</td>\n      <td>2526</td>\n      <td>We can step up and confront climate change, sa...</td>\n      <td>2020-03-21 15:56:11.387880</td>\n      <td>Tue Sep 27 01:21:24 +0000 2016</td>\n      <td>0.799357</td>\n      <td>0.200643</td>\n    </tr>\n  </tbody>\n</table>\n<p>3934 rows × 8 columns</p>\n</div>"
     },
     "metadata": {},
     "execution_count": 125
    }
   ],
   "source": [
    "joined_x"
   ]
  },
  {
   "cell_type": "code",
   "execution_count": 126,
   "metadata": {},
   "outputs": [
    {
     "output_type": "stream",
     "name": "stdout",
     "text": "\"She did everything to make me feel like...I belonged in the White House. Can you imagine? From foster care to the White House.\" —Shane https://t.co/9cJs13GXRA\n"
    }
   ],
   "source": [
    "joined_hillary = joined_x[joined_x['handle']==\"HillaryClinton\"]\n",
    "for el in joined_hillary[joined_hillary['Proba_Hillary']==max(joined_hillary['Proba_Hillary'])]['text']:\n",
    "    print(el)"
   ]
  },
  {
   "cell_type": "code",
   "execution_count": 127,
   "metadata": {},
   "outputs": [
    {
     "output_type": "stream",
     "name": "stdout",
     "text": "Today marks the start of open enrollment for 2018 health coverage. Go to https://t.co/LTQmZQt3jJ to find your perfect plan. #GetCoveredNow\n"
    }
   ],
   "source": [
    "for el in joined_hillary[joined_hillary['Proba_Hillary']==min(joined_hillary['Proba_Hillary'])]['text']:\n",
    "    print(el)"
   ]
  },
  {
   "cell_type": "code",
   "execution_count": 128,
   "metadata": {},
   "outputs": [
    {
     "output_type": "stream",
     "name": "stdout",
     "text": "READ THE TRANSCRIPTS! The Impeachment Hoax is the greatest con job in the history of American politics! The Fake News Media, and their partner, the Democrat Party, are working overtime to make life for the United Republican Party, and all it stands for, as difficult as possible!\n"
    }
   ],
   "source": [
    "joined_donald = joined_x[joined_x['handle']==\"realDonaldTrump\"]\n",
    "for el in joined_donald[joined_donald['Proba_Donald']==max(joined_donald['Proba_Donald'])]['text']:\n",
    "    print(el)"
   ]
  },
  {
   "cell_type": "code",
   "execution_count": 129,
   "metadata": {},
   "outputs": [
    {
     "output_type": "stream",
     "name": "stdout",
     "text": "“You go around Pennsylvania and you see Trump signs everywhere. The Donald Trump situation is bigger than the Reagan Revolution. Donald Trump has inspired us.” @RjHarris15  WHP580\n"
    }
   ],
   "source": [
    "for el in joined_donald[joined_donald['Proba_Donald']==min(joined_donald['Proba_Donald'])]['text']:\n",
    "    print(el)"
   ]
  },
  {
   "cell_type": "code",
   "execution_count": null,
   "metadata": {},
   "outputs": [],
   "source": []
  }
 ]
}